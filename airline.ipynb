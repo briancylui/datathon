{
 "cells": [
  {
   "cell_type": "code",
   "execution_count": 29,
   "metadata": {},
   "outputs": [],
   "source": [
    "import pickle\n",
    "import numpy as np\n",
    "files = ['airports', 'events_US', 'fares', 'flight_traffic', 'stock_prices', 'weather']\n",
    "data = {}\n",
    "for file in files:\n",
    "    with open(file + '2.pkl', 'rb') as f:\n",
    "        data[file] = pickle.load(f)"
   ]
  },
  {
   "cell_type": "code",
   "execution_count": 37,
   "metadata": {},
   "outputs": [
    {
     "name": "stdout",
     "output_type": "stream",
     "text": [
      "[[1 u'AA' u'CLT' ... 0 0 0]\n",
      " [1 u'DL' u'DTW' ... 0 0 28]\n",
      " [1 u'DL' u'MSP' ... 0 0 0]\n",
      " ...\n",
      " [4 u'WN' u'BDL' ... 0 0 0]\n",
      " [4 u'WN' u'HRL' ... 0 0 0]\n",
      " [4 u'UA' u'EVV' ... 0 0 0]]\n"
     ]
    }
   ],
   "source": [
    "fareData = data['fares']\n",
    "print fareData"
   ]
  },
  {
   "cell_type": "code",
   "execution_count": 31,
   "metadata": {},
   "outputs": [],
   "source": [
    "route = fareData[:,2] + fareData[:,3] "
   ]
  },
  {
   "cell_type": "code",
   "execution_count": 32,
   "metadata": {},
   "outputs": [
    {
     "name": "stdout",
     "output_type": "stream",
     "text": [
      "[u'CLTSGF' u'DTWSAN' u'MSPISN' ... u'BDLONT' u'HRLTUL' u'EVVHPN']\n"
     ]
    }
   ],
   "source": [
    "print route"
   ]
  },
  {
   "cell_type": "code",
   "execution_count": 39,
   "metadata": {},
   "outputs": [
    {
     "name": "stdout",
     "output_type": "stream",
     "text": [
      "[ 611 2232  594 ...    1    1    1]\n"
     ]
    }
   ],
   "source": [
    "numOfPassengers = np.zeros(fareData[:,5].shape, dtype=int)\n",
    "for i in range(1, 251):\n",
    "    numOfPassengers += fareData[:,i+4].astype(int)\n",
    "print numOfPassengers"
   ]
  },
  {
   "cell_type": "code",
   "execution_count": 40,
   "metadata": {},
   "outputs": [
    {
     "name": "stdout",
     "output_type": "stream",
     "text": [
      "[  98510 1041350   74660 ...     420     370     540]\n"
     ]
    }
   ],
   "source": [
    "totalRevenue = np.zeros(fareData[:,5].shape, dtype=int)\n",
    "for i in range(1, 251):\n",
    "    totalRevenue += fareData[:,i+4].astype(int)*i*10\n",
    "print totalRevenue"
   ]
  },
  {
   "cell_type": "code",
   "execution_count": 42,
   "metadata": {},
   "outputs": [
    {
     "name": "stdout",
     "output_type": "stream",
     "text": [
      "[161.22749591 466.5546595  125.69023569 ... 420.         370.\n",
      " 540.        ]\n"
     ]
    }
   ],
   "source": [
    "averageFare = totalRevenue.astype(float)/numOfPassengers.astype(float)\n",
    "print averageFare"
   ]
  },
  {
   "cell_type": "code",
   "execution_count": 45,
   "metadata": {},
   "outputs": [
    {
     "ename": "KeyError",
     "evalue": "u'CLTSGF'",
     "output_type": "error",
     "traceback": [
      "\u001b[0;31m---------------------------------------------------------------------------\u001b[0m",
      "\u001b[0;31mKeyError\u001b[0m                                  Traceback (most recent call last)",
      "\u001b[0;32m<ipython-input-45-94c8b1397f92>\u001b[0m in \u001b[0;36m<module>\u001b[0;34m()\u001b[0m\n\u001b[1;32m      1\u001b[0m \u001b[0mimportantFareData\u001b[0m \u001b[0;34m=\u001b[0m \u001b[0;34m{\u001b[0m\u001b[0;34m}\u001b[0m\u001b[0;34m\u001b[0m\u001b[0m\n\u001b[1;32m      2\u001b[0m \u001b[0;32mfor\u001b[0m \u001b[0mi\u001b[0m \u001b[0;32min\u001b[0m \u001b[0mrange\u001b[0m\u001b[0;34m(\u001b[0m\u001b[0mroute\u001b[0m\u001b[0;34m.\u001b[0m\u001b[0mshape\u001b[0m\u001b[0;34m[\u001b[0m\u001b[0;36m0\u001b[0m\u001b[0;34m]\u001b[0m\u001b[0;34m)\u001b[0m\u001b[0;34m:\u001b[0m\u001b[0;34m\u001b[0m\u001b[0m\n\u001b[0;32m----> 3\u001b[0;31m     \u001b[0mimportantFareData\u001b[0m\u001b[0;34m[\u001b[0m\u001b[0mroute\u001b[0m\u001b[0;34m[\u001b[0m\u001b[0mi\u001b[0m\u001b[0;34m]\u001b[0m\u001b[0;34m]\u001b[0m\u001b[0;34m[\u001b[0m\u001b[0mfareData\u001b[0m\u001b[0;34m[\u001b[0m\u001b[0mi\u001b[0m\u001b[0;34m]\u001b[0m\u001b[0;34m[\u001b[0m\u001b[0;36m0\u001b[0m\u001b[0;34m]\u001b[0m\u001b[0;34m]\u001b[0m \u001b[0;34m=\u001b[0m \u001b[0maverageFare\u001b[0m\u001b[0;34m[\u001b[0m\u001b[0mi\u001b[0m\u001b[0;34m]\u001b[0m\u001b[0;34m\u001b[0m\u001b[0m\n\u001b[0m",
      "\u001b[0;31mKeyError\u001b[0m: u'CLTSGF'"
     ]
    }
   ],
   "source": [
    "importantFareData = {}\n",
    "for i in range(route.shape[0]):\n",
    "    if route[i] in importantFareData:\n",
    "        importantFareData[route[i]][fareData[i][0]] = averageFare[i]\n",
    "    else:\n",
    "        \n",
    "        importantFareData[route[i]]"
   ]
  },
  {
   "cell_type": "code",
   "execution_count": 47,
   "metadata": {},
   "outputs": [
    {
     "name": "stdout",
     "output_type": "stream",
     "text": [
      "[0.2277224518479477 0.23852487704407357 0.23020189686856354 ...\n",
      " 0.16921837228041903 0.5323741007194245 0.7049608355091384]\n"
     ]
    }
   ],
   "source": [
    "averageFarePerMile = averageFare/fareData[:,4]\n",
    "print averageFarePerMile"
   ]
  },
  {
   "cell_type": "code",
   "execution_count": null,
   "metadata": {},
   "outputs": [],
   "source": []
  }
 ],
 "metadata": {
  "kernelspec": {
   "display_name": "Python 2",
   "language": "python",
   "name": "python2"
  },
  "language_info": {
   "codemirror_mode": {
    "name": "ipython",
    "version": 2
   },
   "file_extension": ".py",
   "mimetype": "text/x-python",
   "name": "python",
   "nbconvert_exporter": "python",
   "pygments_lexer": "ipython2",
   "version": "2.7.14"
  }
 },
 "nbformat": 4,
 "nbformat_minor": 2
}
